{
 "cells": [
  {
   "cell_type": "markdown",
   "metadata": {
    "id": "rbgjVp6BXGCT"
   },
   "source": [
    "\n",
    "# **Assignment 1**\n",
    "\n",
    "\n",
    "## Task 1. Correlation\n",
    "We will use the data example from the textbook \"Statistical Analysis with The General Linear Model\" by Miller and Haden (2013), Chapter 11.\n",
    "\n",
    "As in Miller and Haden, we have five columns:\n",
    "\n",
    "-Participant (Participant),\n",
    "\n",
    "-Reading Ability (Abil),\n",
    "\n",
    "-Intelligence (IQ),\n",
    "\n",
    "-Number of minutes spent reading at home per week (Home),\n",
    "\n",
    "-Number of minutes spent watching TV per week (TV).\n",
    "\n",
    "\n",
    "For the task we will focus on the relationship between Reading Ability and IQ, but for further practice you can look at other relationships on your own."
   ]
  },
  {
   "cell_type": "markdown",
   "metadata": {
    "id": "Z4cXzKORYFaD"
   },
   "source": [
    "**Question 1**:\n",
    "\n",
    "a. Check whether the data is interval, ratio, or ordinal.\n",
    "\n",
    "b. Check whether there is a data point for each participant on both variables.\n",
    "\n",
    "c. Check whether the data is normally distributed in both variables.\n",
    "\n",
    "d. Create a scatter plot with Reading Ability being the x-axis and IQ, being the y-axis.\n",
    "\n",
    "e. Draw a correlation line on the scatter plot.\n",
    "\n",
    "\n",
    "**Instructions:**\n",
    "\n",
    "1. Load the necessary libraries and explain why you need them (\"#used for ...\").\n",
    "\n",
    "2. Read the MillerHadenData.csv file into a DataFrame and name it \"df_mh\"."
   ]
  },
  {
   "cell_type": "code",
   "execution_count": 8,
   "metadata": {
    "id": "140M8Z4qYn_G"
   },
   "outputs": [
    {
     "name": "stdout",
     "output_type": "stream",
     "text": [
      "Collecting pingouin\n",
      "  Downloading pingouin-0.5.4-py2.py3-none-any.whl.metadata (1.1 kB)\n",
      "Requirement already satisfied: numpy in c:\\users\\yd180\\anaconda3\\lib\\site-packages (from pingouin) (1.24.3)\n",
      "Requirement already satisfied: scipy in c:\\users\\yd180\\anaconda3\\lib\\site-packages (from pingouin) (1.10.0)\n",
      "Requirement already satisfied: pandas>=1.5 in c:\\users\\yd180\\anaconda3\\lib\\site-packages (from pingouin) (1.5.3)\n",
      "Requirement already satisfied: matplotlib in c:\\users\\yd180\\anaconda3\\lib\\site-packages (from pingouin) (3.8.0)\n",
      "Requirement already satisfied: seaborn in c:\\users\\yd180\\anaconda3\\lib\\site-packages (from pingouin) (0.12.2)\n",
      "Requirement already satisfied: statsmodels in c:\\users\\yd180\\anaconda3\\lib\\site-packages (from pingouin) (0.14.0)\n",
      "Requirement already satisfied: scikit-learn in c:\\users\\yd180\\anaconda3\\lib\\site-packages (from pingouin) (1.1.3)\n",
      "Collecting pandas-flavor (from pingouin)\n",
      "  Downloading pandas_flavor-0.6.0-py3-none-any.whl.metadata (6.3 kB)\n",
      "Requirement already satisfied: tabulate in c:\\users\\yd180\\anaconda3\\lib\\site-packages (from pingouin) (0.9.0)\n",
      "Requirement already satisfied: python-dateutil>=2.8.1 in c:\\users\\yd180\\anaconda3\\lib\\site-packages (from pandas>=1.5->pingouin) (2.8.2)\n",
      "Requirement already satisfied: pytz>=2020.1 in c:\\users\\yd180\\anaconda3\\lib\\site-packages (from pandas>=1.5->pingouin) (2023.3.post1)\n",
      "Requirement already satisfied: contourpy>=1.0.1 in c:\\users\\yd180\\anaconda3\\lib\\site-packages (from matplotlib->pingouin) (1.2.0)\n",
      "Requirement already satisfied: cycler>=0.10 in c:\\users\\yd180\\anaconda3\\lib\\site-packages (from matplotlib->pingouin) (0.11.0)\n",
      "Requirement already satisfied: fonttools>=4.22.0 in c:\\users\\yd180\\anaconda3\\lib\\site-packages (from matplotlib->pingouin) (4.25.0)\n",
      "Requirement already satisfied: kiwisolver>=1.0.1 in c:\\users\\yd180\\anaconda3\\lib\\site-packages (from matplotlib->pingouin) (1.4.4)\n",
      "Requirement already satisfied: packaging>=20.0 in c:\\users\\yd180\\anaconda3\\lib\\site-packages (from matplotlib->pingouin) (23.1)\n",
      "Requirement already satisfied: pillow>=6.2.0 in c:\\users\\yd180\\anaconda3\\lib\\site-packages (from matplotlib->pingouin) (10.0.1)\n",
      "Requirement already satisfied: pyparsing>=2.3.1 in c:\\users\\yd180\\anaconda3\\lib\\site-packages (from matplotlib->pingouin) (3.0.9)\n",
      "Requirement already satisfied: xarray in c:\\users\\yd180\\anaconda3\\lib\\site-packages (from pandas-flavor->pingouin) (2023.6.0)\n",
      "Requirement already satisfied: joblib>=1.0.0 in c:\\users\\yd180\\anaconda3\\lib\\site-packages (from scikit-learn->pingouin) (1.2.0)\n",
      "Requirement already satisfied: threadpoolctl>=2.0.0 in c:\\users\\yd180\\anaconda3\\lib\\site-packages (from scikit-learn->pingouin) (2.2.0)\n",
      "Requirement already satisfied: patsy>=0.5.2 in c:\\users\\yd180\\anaconda3\\lib\\site-packages (from statsmodels->pingouin) (0.5.3)\n",
      "Requirement already satisfied: six in c:\\users\\yd180\\anaconda3\\lib\\site-packages (from patsy>=0.5.2->statsmodels->pingouin) (1.16.0)\n",
      "Downloading pingouin-0.5.4-py2.py3-none-any.whl (198 kB)\n",
      "   ---------------------------------------- 0.0/198.9 kB ? eta -:--:--\n",
      "   ---------------------------------------- 198.9/198.9 kB 6.1 MB/s eta 0:00:00\n",
      "Downloading pandas_flavor-0.6.0-py3-none-any.whl (7.2 kB)\n",
      "Installing collected packages: pandas-flavor, pingouin\n",
      "Successfully installed pandas-flavor-0.6.0 pingouin-0.5.4\n"
     ]
    }
   ],
   "source": [
    "import pandas as pd # used for data wrangling\n",
    "import seaborn as sns # used for visualization\n",
    "import matplotlib  # used for visualization.\n",
    "from matplotlib import pyplot as plt # used for visualization.\n",
    "import pylab #Directly call functions and methods of Matplotlib and NumPy to perform scientific calculations and data visualization more conveniently.\n",
    "!pip install pingouin \n",
    "import pingouin as pg #Perform data analysis and statistical modeling.\n",
    "\n",
    "df_mh = pd.read_csv(r'C:\\Users\\yd180\\Desktop\\A1_analysing_data\\data for A1\\MillerHadenData.csv')\n",
    "\n"
   ]
  },
  {
   "cell_type": "code",
   "execution_count": 13,
   "metadata": {
    "id": "rwqidw5q2D1n"
   },
   "outputs": [
    {
     "data": {
      "text/html": [
       "<div>\n",
       "<style scoped>\n",
       "    .dataframe tbody tr th:only-of-type {\n",
       "        vertical-align: middle;\n",
       "    }\n",
       "\n",
       "    .dataframe tbody tr th {\n",
       "        vertical-align: top;\n",
       "    }\n",
       "\n",
       "    .dataframe thead th {\n",
       "        text-align: right;\n",
       "    }\n",
       "</style>\n",
       "<table border=\"1\" class=\"dataframe\">\n",
       "  <thead>\n",
       "    <tr style=\"text-align: right;\">\n",
       "      <th></th>\n",
       "      <th>Participant</th>\n",
       "      <th>Abil</th>\n",
       "      <th>IQ</th>\n",
       "      <th>Home</th>\n",
       "      <th>TV</th>\n",
       "    </tr>\n",
       "  </thead>\n",
       "  <tbody>\n",
       "    <tr>\n",
       "      <th>0</th>\n",
       "      <td>1</td>\n",
       "      <td>61</td>\n",
       "      <td>107</td>\n",
       "      <td>144</td>\n",
       "      <td>487</td>\n",
       "    </tr>\n",
       "    <tr>\n",
       "      <th>1</th>\n",
       "      <td>2</td>\n",
       "      <td>56</td>\n",
       "      <td>109</td>\n",
       "      <td>123</td>\n",
       "      <td>608</td>\n",
       "    </tr>\n",
       "    <tr>\n",
       "      <th>2</th>\n",
       "      <td>3</td>\n",
       "      <td>45</td>\n",
       "      <td>81</td>\n",
       "      <td>108</td>\n",
       "      <td>640</td>\n",
       "    </tr>\n",
       "    <tr>\n",
       "      <th>3</th>\n",
       "      <td>4</td>\n",
       "      <td>66</td>\n",
       "      <td>100</td>\n",
       "      <td>155</td>\n",
       "      <td>493</td>\n",
       "    </tr>\n",
       "    <tr>\n",
       "      <th>4</th>\n",
       "      <td>5</td>\n",
       "      <td>49</td>\n",
       "      <td>92</td>\n",
       "      <td>103</td>\n",
       "      <td>636</td>\n",
       "    </tr>\n",
       "  </tbody>\n",
       "</table>\n",
       "</div>"
      ],
      "text/plain": [
       "   Participant  Abil   IQ  Home   TV\n",
       "0            1    61  107   144  487\n",
       "1            2    56  109   123  608\n",
       "2            3    45   81   108  640\n",
       "3            4    66  100   155  493\n",
       "4            5    49   92   103  636"
      ]
     },
     "execution_count": 13,
     "metadata": {},
     "output_type": "execute_result"
    }
   ],
   "source": [
    "# Q1a (code):\n",
    "# Display first few rows of the dataframe\n",
    "data = pd.read_csv(r'C:\\Users\\yd180\\Desktop\\A1_analysing_data\\data for A1\\MillerHadenData.csv', header=0)\n",
    "data.head()\n"
   ]
  },
  {
   "cell_type": "code",
   "execution_count": 15,
   "metadata": {},
   "outputs": [
    {
     "name": "stdout",
     "output_type": "stream",
     "text": [
      "<class 'pandas.core.frame.DataFrame'>\n",
      "RangeIndex: 25 entries, 0 to 24\n",
      "Data columns (total 5 columns):\n",
      " #   Column       Non-Null Count  Dtype\n",
      "---  ------       --------------  -----\n",
      " 0   Participant  25 non-null     int64\n",
      " 1   Abil         25 non-null     int64\n",
      " 2   IQ           25 non-null     int64\n",
      " 3   Home         25 non-null     int64\n",
      " 4   TV           25 non-null     int64\n",
      "dtypes: int64(5)\n",
      "memory usage: 1.1 KB\n"
     ]
    }
   ],
   "source": [
    "# Check data types and information\n",
    "data.info()  "
   ]
  },
  {
   "cell_type": "code",
   "execution_count": 16,
   "metadata": {
    "id": "Edd9mYgi2Jar"
   },
   "outputs": [
    {
     "name": "stdout",
     "output_type": "stream",
     "text": [
      "Missing values count:\n",
      " Participant    0\n",
      "Abil           0\n",
      "IQ             0\n",
      "Home           0\n",
      "TV             0\n",
      "dtype: int64\n",
      "There are no missing values in the data.\n"
     ]
    }
   ],
   "source": [
    "# Q1b (code):\n",
    "\n",
    "# Check for missing values\n",
    "#source：https://www.geeksforgeeks.org/working-with-missing-data-in-pandas/\n",
    "missing_values = data.isnull().sum()\n",
    "\n",
    "# Display the number of missing values in each column\n",
    "print(\"Missing values count:\\n\", missing_values)\n",
    "\n",
    "# Check if there are any missing values\n",
    "if missing_values.sum() > 0:\n",
    "    print(\"There are missing values in the data.\")\n",
    "else:\n",
    "    print(\"There are no missing values in the data.\")"
   ]
  },
  {
   "cell_type": "code",
   "execution_count": 21,
   "metadata": {},
   "outputs": [
    {
     "name": "stdout",
     "output_type": "stream",
     "text": [
      "There is a data point for each participant on both variables.\n"
     ]
    }
   ],
   "source": [
    "# Check whether there is a data point for each participant on both variables\n",
    "\n",
    "# Count the number of missing values in the 'Abil' column\n",
    "missing_values_abil = df_mh['Abil'].isnull().sum()\n",
    "# Count the number of missing values in the 'IQ' column\n",
    "missing_values_iq = df_mh['IQ'].isnull().sum()\n",
    "\n",
    "# Check if the number of missing values in both columns 'Abil' and 'IQ' is zero\n",
    "# If the number of missing values in both columns 'Abil' and 'IQ' is zero, it means that each participant has data points for both variables.\n",
    "if missing_values_abil == missing_values_iq == 0:\n",
    "    print(\"There is a data point for each participant on both variables.\")\n",
    "\n",
    "# If the number of missing values in the 'Abil' and 'IQ' columns is non-zero, it means that some participants are missing data points for some variables\n",
    "else:\n",
    "    print(\"There are missing data points for some participants.\")"
   ]
  },
  {
   "cell_type": "code",
   "execution_count": 37,
   "metadata": {
    "id": "3ALe0fjr2K5h"
   },
   "outputs": [
    {
     "data": {
      "image/png": "[encoded data removed]",
      "text/plain": [
       "<Figure size 640x480 with 1 Axes>"
      ]
     },
     "metadata": {},
     "output_type": "display_data"
    },
    {
     "data": {
      "image/png": "[encoded data removed]",
      "text/plain": [
       "<Figure size 640x480 with 1 Axes>"
      ]
     },
     "metadata": {},
     "output_type": "display_data"
    }
   ],
   "source": [
    "# Q1c (code):\n",
    "# Check data distribution\n",
    "\n",
    "# Draw a histogram of reading ability, set to blue\n",
    "df_mh['Abil'].hist(color='blue')\n",
    "plt.xlabel('Reading Ability')\n",
    "plt.ylabel('Frequency')\n",
    "plt.title('Distribution of Reading Ability')\n",
    "\n",
    "plt.show()\n",
    "\n",
    "# Draw a histogram of IQ\n",
    "df_mh['IQ'].hist(color='green')\n",
    "plt.xlabel('IQ')\n",
    "plt.ylabel('Frequency')\n",
    "plt.title('Distribution of IQ')\n",
    "\n",
    "plt.show()"
   ]
  },
  {
   "cell_type": "code",
   "execution_count": 44,
   "metadata": {
    "id": "xaQ300fY2MPe"
   },
   "outputs": [
    {
     "data": {
      "image/png": "[encoded data removed]",
      "text/plain": [
       "<Figure size 800x600 with 1 Axes>"
      ]
     },
     "metadata": {},
     "output_type": "display_data"
    }
   ],
   "source": [
    "# Q1d (code):\n",
    "# Scatter plot\n",
    "\n",
    "#Create a scatter plot and set the graphic size\n",
    "plt.figure(figsize=(8, 6))\n",
    "plt.scatter(df_mh['Abil'], df_mh['IQ'], color='purple')\n",
    "\n",
    "# Add tags and titles\n",
    "plt.xlabel('Reading Ability')\n",
    "plt.ylabel('IQ')\n",
    "plt.title('Scatter Plot of Reading Ability and IQ')\n",
    "# Generate graphics\n",
    "plt.show()"
   ]
  },
  {
   "cell_type": "code",
   "execution_count": 54,
   "metadata": {
    "id": "Zpkwqc382N06"
   },
   "outputs": [
    {
     "data": {
      "image/png": "[encoded data removed]",
      "text/plain": [
       "<Figure size 640x480 with 1 Axes>"
      ]
     },
     "metadata": {},
     "output_type": "display_data"
    }
   ],
   "source": [
    "# Q1e (code):\n",
    "# Correlation line\n",
    "\n",
    "#Use the regplot() function to create a scatterplot and plot the correlation line between reading ability and IQ\n",
    "plot_corr_sns = sns.regplot(x='Abil', y='IQ', data=df_mh, color='purple')\n",
    "# Add tags and titles\n",
    "plt.xlabel('Reading Ability')\n",
    "plt.ylabel('IQ')\n",
    "plt.title('Scatter Plot of Reading Ability and IQ with Correlation Line')\n",
    "# Generate graphics\n",
    "plt.show()"
   ]
  },
  {
   "cell_type": "markdown",
   "metadata": {
    "id": "tKtW2diqZq1S"
   },
   "source": [
    "**Question 2**:\n",
    "\n",
    "a. Which correlation coefficient test can we use, Pearson or Spearman? Briefly explian why based on the results of Question 1.\n",
    "\n",
    "b. Conduct a correlation coefficient test.\n",
    "\n",
    "c. Interpret the result (direction and strength of the association between the two varibles)"
   ]
  },
  {
   "cell_type": "markdown",
   "metadata": {
    "id": "t5GRVxHwaKIS"
   },
   "source": [
    "# Q2a (answer with words):\n",
    "\n",
    "Because the Pearson correlation coefficient applies to continuous variables with a linear relationship and a bivariate normal distribution. According to the image results of Question 1, it can be seen that \"reading ability\" and \"IQ\" are normally distributed and have a linear relationship, so the Pearson correlation coefficient test should be used."
   ]
  },
  {
   "cell_type": "code",
   "execution_count": 57,
   "metadata": {
    "id": "LTSp6xMFaKgf"
   },
   "outputs": [
    {
     "name": "stdout",
     "output_type": "stream",
     "text": [
      "          n        r         CI95%     p-val   BF10     power\n",
      "pearson  25  0.45117  [0.07, 0.72]  0.023593  2.804  0.640299\n"
     ]
    }
   ],
   "source": [
    "# Q2b (code):\n",
    "# Calculate the Pearson correlation coefficient between reading ability and IQ using the corr() function\n",
    "corr_Reading_ability_IQ = pg.corr(df_mh['Abil'], df_mh['IQ'])\n",
    "print(corr_Reading_ability_IQ)"
   ]
  },
  {
   "cell_type": "markdown",
   "metadata": {
    "id": "m_3aCSG7ylFJ"
   },
   "source": [
    "# Q2c (answer with words):\n",
    "\n",
    "It can be seen from the results that the correlation coefficient r=0.45117, which means that there is a positive correlation between reading ability and IQ. In other words, the higher the reading ability, the more it increases, and the IQ will also increase. p-val =0.023593, lower than 0.05, which also proves the correlation between reading ability and IQ. BF10=2.804. Although this is not strong evidence, it still proves the correlation between variables. Overall, there is a positive correlation between the two variables, but the numerical correlation strength according to the results is a moderate correlation."
   ]
  },
  {
   "cell_type": "markdown",
   "metadata": {
    "id": "mogdaz8P27oU"
   },
   "source": [
    "## Task 2. Chi-square Test\n",
    "We will continue to use the data example from Task 1.\n",
    "\n",
    "We want to explore whether there are significant differences in the amount of time spent reading at home per week (Home) among people with different reading abilities (Reading Ability). Therefore, we will divide the reading ability of all participants into two groups. The first group is those with low reading ability (Reading Ability at or below the rounded average), and the second group is those with high reading ability (Reading Ability above the rounded average). We will store this grouping in a new column named \"Rank_Abil\".\n",
    "\n",
    "\n",
    "Similarly, the reading time is divided into two different scenarios: the first scenario is infrequent reading (Home at or below the rounded average), and the other is frequent reading (Reading Ability above the rounded average). We will store this grouping in a new column named \"Rank_Home\".\n",
    "\n",
    "\n",
    "Then, construct a Contingency Matrix and perform a Chi-square test.\n",
    "\n",
    "**Question 3**:\n",
    "\n",
    "a. Please state the null hypothesis (H0) and alternative hypothesis (H1) for this Chi-square test.\n",
    "\n",
    "b. Based on the task description, add new columns “Rank_Abil” and \"Rank_Home\" to the dataframe df_mh.\n",
    "\n",
    "c. Construct a Contingency Matrix.\n",
    "\n",
    "d. Perform a Chi-square test.\n",
    "\n",
    "e. Interpret the results of the Chi-square test (answer in text)."
   ]
  },
  {
   "cell_type": "markdown",
   "metadata": {
    "id": "tIKHfEwG-Pte"
   },
   "source": [
    "# Q3a (answer in words):\n",
    "H0:The values of the two variables are independent and will not affect each other. There was no association between reading ability and weekly reading time at home.\n",
    "\n",
    "\n",
    "H1：The distributions between the two variables are not independent. There is a significant association between reading ability and weekly reading time at home."
   ]
  },
  {
   "cell_type": "code",
   "execution_count": 60,
   "metadata": {
    "id": "nlO-hmq2-V2Z"
   },
   "outputs": [
    {
     "data": {
      "text/html": [
       "<div>\n",
       "<style scoped>\n",
       "    .dataframe tbody tr th:only-of-type {\n",
       "        vertical-align: middle;\n",
       "    }\n",
       "\n",
       "    .dataframe tbody tr th {\n",
       "        vertical-align: top;\n",
       "    }\n",
       "\n",
       "    .dataframe thead th {\n",
       "        text-align: right;\n",
       "    }\n",
       "</style>\n",
       "<table border=\"1\" class=\"dataframe\">\n",
       "  <thead>\n",
       "    <tr style=\"text-align: right;\">\n",
       "      <th></th>\n",
       "      <th>Participant</th>\n",
       "      <th>Abil</th>\n",
       "      <th>IQ</th>\n",
       "      <th>Home</th>\n",
       "      <th>TV</th>\n",
       "      <th>Rank_Abil</th>\n",
       "      <th>Rank_Home</th>\n",
       "    </tr>\n",
       "  </thead>\n",
       "  <tbody>\n",
       "    <tr>\n",
       "      <th>0</th>\n",
       "      <td>1</td>\n",
       "      <td>61</td>\n",
       "      <td>107</td>\n",
       "      <td>144</td>\n",
       "      <td>487</td>\n",
       "      <td>High</td>\n",
       "      <td>Frequent</td>\n",
       "    </tr>\n",
       "    <tr>\n",
       "      <th>1</th>\n",
       "      <td>2</td>\n",
       "      <td>56</td>\n",
       "      <td>109</td>\n",
       "      <td>123</td>\n",
       "      <td>608</td>\n",
       "      <td>High</td>\n",
       "      <td>Infrequent</td>\n",
       "    </tr>\n",
       "    <tr>\n",
       "      <th>2</th>\n",
       "      <td>3</td>\n",
       "      <td>45</td>\n",
       "      <td>81</td>\n",
       "      <td>108</td>\n",
       "      <td>640</td>\n",
       "      <td>Low</td>\n",
       "      <td>Infrequent</td>\n",
       "    </tr>\n",
       "    <tr>\n",
       "      <th>3</th>\n",
       "      <td>4</td>\n",
       "      <td>66</td>\n",
       "      <td>100</td>\n",
       "      <td>155</td>\n",
       "      <td>493</td>\n",
       "      <td>High</td>\n",
       "      <td>Frequent</td>\n",
       "    </tr>\n",
       "    <tr>\n",
       "      <th>4</th>\n",
       "      <td>5</td>\n",
       "      <td>49</td>\n",
       "      <td>92</td>\n",
       "      <td>103</td>\n",
       "      <td>636</td>\n",
       "      <td>Low</td>\n",
       "      <td>Infrequent</td>\n",
       "    </tr>\n",
       "    <tr>\n",
       "      <th>5</th>\n",
       "      <td>6</td>\n",
       "      <td>62</td>\n",
       "      <td>105</td>\n",
       "      <td>161</td>\n",
       "      <td>407</td>\n",
       "      <td>High</td>\n",
       "      <td>Frequent</td>\n",
       "    </tr>\n",
       "    <tr>\n",
       "      <th>6</th>\n",
       "      <td>7</td>\n",
       "      <td>61</td>\n",
       "      <td>92</td>\n",
       "      <td>138</td>\n",
       "      <td>463</td>\n",
       "      <td>High</td>\n",
       "      <td>Frequent</td>\n",
       "    </tr>\n",
       "    <tr>\n",
       "      <th>7</th>\n",
       "      <td>8</td>\n",
       "      <td>55</td>\n",
       "      <td>101</td>\n",
       "      <td>119</td>\n",
       "      <td>717</td>\n",
       "      <td>Low</td>\n",
       "      <td>Infrequent</td>\n",
       "    </tr>\n",
       "    <tr>\n",
       "      <th>8</th>\n",
       "      <td>9</td>\n",
       "      <td>62</td>\n",
       "      <td>118</td>\n",
       "      <td>155</td>\n",
       "      <td>643</td>\n",
       "      <td>High</td>\n",
       "      <td>Frequent</td>\n",
       "    </tr>\n",
       "    <tr>\n",
       "      <th>9</th>\n",
       "      <td>10</td>\n",
       "      <td>61</td>\n",
       "      <td>99</td>\n",
       "      <td>121</td>\n",
       "      <td>674</td>\n",
       "      <td>High</td>\n",
       "      <td>Infrequent</td>\n",
       "    </tr>\n",
       "    <tr>\n",
       "      <th>10</th>\n",
       "      <td>11</td>\n",
       "      <td>51</td>\n",
       "      <td>104</td>\n",
       "      <td>93</td>\n",
       "      <td>675</td>\n",
       "      <td>Low</td>\n",
       "      <td>Infrequent</td>\n",
       "    </tr>\n",
       "    <tr>\n",
       "      <th>11</th>\n",
       "      <td>12</td>\n",
       "      <td>48</td>\n",
       "      <td>100</td>\n",
       "      <td>127</td>\n",
       "      <td>595</td>\n",
       "      <td>Low</td>\n",
       "      <td>Frequent</td>\n",
       "    </tr>\n",
       "    <tr>\n",
       "      <th>12</th>\n",
       "      <td>13</td>\n",
       "      <td>50</td>\n",
       "      <td>95</td>\n",
       "      <td>97</td>\n",
       "      <td>673</td>\n",
       "      <td>Low</td>\n",
       "      <td>Infrequent</td>\n",
       "    </tr>\n",
       "    <tr>\n",
       "      <th>13</th>\n",
       "      <td>14</td>\n",
       "      <td>50</td>\n",
       "      <td>82</td>\n",
       "      <td>140</td>\n",
       "      <td>523</td>\n",
       "      <td>Low</td>\n",
       "      <td>Frequent</td>\n",
       "    </tr>\n",
       "    <tr>\n",
       "      <th>14</th>\n",
       "      <td>15</td>\n",
       "      <td>67</td>\n",
       "      <td>114</td>\n",
       "      <td>151</td>\n",
       "      <td>665</td>\n",
       "      <td>High</td>\n",
       "      <td>Frequent</td>\n",
       "    </tr>\n",
       "    <tr>\n",
       "      <th>15</th>\n",
       "      <td>16</td>\n",
       "      <td>51</td>\n",
       "      <td>95</td>\n",
       "      <td>112</td>\n",
       "      <td>663</td>\n",
       "      <td>Low</td>\n",
       "      <td>Infrequent</td>\n",
       "    </tr>\n",
       "    <tr>\n",
       "      <th>16</th>\n",
       "      <td>17</td>\n",
       "      <td>55</td>\n",
       "      <td>94</td>\n",
       "      <td>102</td>\n",
       "      <td>684</td>\n",
       "      <td>Low</td>\n",
       "      <td>Infrequent</td>\n",
       "    </tr>\n",
       "    <tr>\n",
       "      <th>17</th>\n",
       "      <td>18</td>\n",
       "      <td>54</td>\n",
       "      <td>103</td>\n",
       "      <td>142</td>\n",
       "      <td>505</td>\n",
       "      <td>Low</td>\n",
       "      <td>Frequent</td>\n",
       "    </tr>\n",
       "    <tr>\n",
       "      <th>18</th>\n",
       "      <td>19</td>\n",
       "      <td>57</td>\n",
       "      <td>96</td>\n",
       "      <td>127</td>\n",
       "      <td>541</td>\n",
       "      <td>High</td>\n",
       "      <td>Frequent</td>\n",
       "    </tr>\n",
       "    <tr>\n",
       "      <th>19</th>\n",
       "      <td>20</td>\n",
       "      <td>54</td>\n",
       "      <td>104</td>\n",
       "      <td>102</td>\n",
       "      <td>678</td>\n",
       "      <td>Low</td>\n",
       "      <td>Infrequent</td>\n",
       "    </tr>\n",
       "    <tr>\n",
       "      <th>20</th>\n",
       "      <td>21</td>\n",
       "      <td>52</td>\n",
       "      <td>98</td>\n",
       "      <td>124</td>\n",
       "      <td>564</td>\n",
       "      <td>Low</td>\n",
       "      <td>Infrequent</td>\n",
       "    </tr>\n",
       "    <tr>\n",
       "      <th>21</th>\n",
       "      <td>22</td>\n",
       "      <td>48</td>\n",
       "      <td>117</td>\n",
       "      <td>87</td>\n",
       "      <td>787</td>\n",
       "      <td>Low</td>\n",
       "      <td>Infrequent</td>\n",
       "    </tr>\n",
       "    <tr>\n",
       "      <th>22</th>\n",
       "      <td>23</td>\n",
       "      <td>61</td>\n",
       "      <td>100</td>\n",
       "      <td>141</td>\n",
       "      <td>582</td>\n",
       "      <td>High</td>\n",
       "      <td>Frequent</td>\n",
       "    </tr>\n",
       "    <tr>\n",
       "      <th>23</th>\n",
       "      <td>24</td>\n",
       "      <td>54</td>\n",
       "      <td>101</td>\n",
       "      <td>117</td>\n",
       "      <td>647</td>\n",
       "      <td>Low</td>\n",
       "      <td>Infrequent</td>\n",
       "    </tr>\n",
       "    <tr>\n",
       "      <th>24</th>\n",
       "      <td>25</td>\n",
       "      <td>48</td>\n",
       "      <td>94</td>\n",
       "      <td>111</td>\n",
       "      <td>448</td>\n",
       "      <td>Low</td>\n",
       "      <td>Infrequent</td>\n",
       "    </tr>\n",
       "  </tbody>\n",
       "</table>\n",
       "</div>"
      ],
      "text/plain": [
       "    Participant  Abil   IQ  Home   TV Rank_Abil   Rank_Home\n",
       "0             1    61  107   144  487      High    Frequent\n",
       "1             2    56  109   123  608      High  Infrequent\n",
       "2             3    45   81   108  640       Low  Infrequent\n",
       "3             4    66  100   155  493      High    Frequent\n",
       "4             5    49   92   103  636       Low  Infrequent\n",
       "5             6    62  105   161  407      High    Frequent\n",
       "6             7    61   92   138  463      High    Frequent\n",
       "7             8    55  101   119  717       Low  Infrequent\n",
       "8             9    62  118   155  643      High    Frequent\n",
       "9            10    61   99   121  674      High  Infrequent\n",
       "10           11    51  104    93  675       Low  Infrequent\n",
       "11           12    48  100   127  595       Low    Frequent\n",
       "12           13    50   95    97  673       Low  Infrequent\n",
       "13           14    50   82   140  523       Low    Frequent\n",
       "14           15    67  114   151  665      High    Frequent\n",
       "15           16    51   95   112  663       Low  Infrequent\n",
       "16           17    55   94   102  684       Low  Infrequent\n",
       "17           18    54  103   142  505       Low    Frequent\n",
       "18           19    57   96   127  541      High    Frequent\n",
       "19           20    54  104   102  678       Low  Infrequent\n",
       "20           21    52   98   124  564       Low  Infrequent\n",
       "21           22    48  117    87  787       Low  Infrequent\n",
       "22           23    61  100   141  582      High    Frequent\n",
       "23           24    54  101   117  647       Low  Infrequent\n",
       "24           25    48   94   111  448       Low  Infrequent"
      ]
     },
     "execution_count": 60,
     "metadata": {},
     "output_type": "execute_result"
    }
   ],
   "source": [
    "# Q3b (code):\n",
    "# Import necessary libraries\n",
    "import pandas as pd  ##used for data wrangling\n",
    "from scipy.stats import chi2_contingency ##Used to perform chi-square tests,  test whether there is an association between two categorical variables.\n",
    "import numpy as np ###For array operations\n",
    "\n",
    "# Define the rounded average for Reading Ability and Home\n",
    "rounded_avg_abil = df_mh['Abil'].mean().round()\n",
    "rounded_avg_home = df_mh['Home'].mean().round()\n",
    "\n",
    "#Use the np.where() function to create a new column based on conditional judgment, and set the elements that meet the condition to the specified value.\n",
    "#source:https://sparkbyexamples.com/pandas/pandas-create-conditional-column-in-dataframe/#google_vignette\n",
    "# Create the Rank_Abil column\n",
    "df_mh['Rank_Abil'] = np.where(df_mh['Abil'] <= rounded_avg_abil, 'Low', 'High')\n",
    "\n",
    "# Create the Rank_Home column\n",
    "df_mh['Rank_Home'] = np.where(df_mh['Home'] <= rounded_avg_home, 'Infrequent', 'Frequent')\n",
    "df_mh"
   ]
  },
  {
   "cell_type": "code",
   "execution_count": 61,
   "metadata": {
    "id": "jjtp4cm4-Y36"
   },
   "outputs": [
    {
     "name": "stdout",
     "output_type": "stream",
     "text": [
      "Contingency Matrix:\n",
      "Rank_Home  Frequent  Infrequent\n",
      "Rank_Abil                      \n",
      "High              8           2\n",
      "Low               3          12\n"
     ]
    }
   ],
   "source": [
    "# Q3c (code):\n",
    "# Construct Contingency Matrix\n",
    "contingency_table = pd.crosstab(df_mh['Rank_Abil'], df_mh['Rank_Home'])\n",
    "\n",
    "# Show contingency table\n",
    "print(\"Contingency Matrix:\")\n",
    "print(contingency_table)"
   ]
  },
  {
   "cell_type": "code",
   "execution_count": 62,
   "metadata": {
    "id": "gyDS8hq2-bmx"
   },
   "outputs": [
    {
     "name": "stdout",
     "output_type": "stream",
     "text": [
      "Chi-square test result:\n",
      "Chi-square statistic: 6.500270562770561\n",
      "p-value: 0.010785807794066234\n",
      "Degrees of freedom: 1\n",
      "Expected frequencies:\n",
      "[[4.4 5.6]\n",
      " [6.6 8.4]]\n"
     ]
    }
   ],
   "source": [
    "# Q3d (code):\n",
    "# Perform the Chi-square test\n",
    "chi2, p, dof, expected = chi2_contingency(contingency_table)\n",
    "\n",
    "# Show test results\n",
    "print(\"Chi-square test result:\")\n",
    "print(\"Chi-square statistic:\", chi2)\n",
    "print(\"p-value:\", p)\n",
    "print(\"Degrees of freedom:\", dof)\n",
    "print(\"Expected frequencies:\")\n",
    "print(expected)"
   ]
  },
  {
   "cell_type": "markdown",
   "metadata": {
    "id": "fj0gW0pS-dN5"
   },
   "source": [
    "# Q3e (answer in words):\n",
    "\n",
    "Chi-square statistic: 6.5, which means that the difference between the observed frequency and the expected frequency is significant.According to the above results, and the p value is less than 0.05. Therefore, the null hypothesis is rejected, which means that these numerical results fully prove that there is a relationship between reading ability and weekly reading time at home, and this relationship is not accidental."
   ]
  },
  {
   "cell_type": "markdown",
   "metadata": {
    "id": "FgYRxqqpaUIk"
   },
   "source": [
    "## Task 3. Two-sample t-test\n",
    "As we discussed on Week 3, Two-sample designs are very useful when we want to know whether there is a difference between groups on a particular variable.\n",
    "\n",
    "In this assignment, you will be guided to replicate the Experiment 4 (p. 887-888) from the paper below, focusing on understanding the data through descriptive statistics, visualizing distributions, testing assumptions (normality and variance homogeneity), and finally performing the independent t-test.\n",
    "\n",
    "Schroeder, J. and Epley, N. (2015). The sound of intellect: Speech reveals a thoughtful mind, increasing a job candidate's appeal. Psychological Science, 26, 277--891.\n",
    "\n",
    "\n",
    "As we explained during Week 3 lecture, there are different types of two-sample designs depending on whether or not the two groups are independent (e.g., different participants in different conditions) or not (e.g., same participants in different conditions). In this course we focus on independent samples, which typically means that the observations in the two groups are unrelated - usually meaning different people. But in real practice you will need to go through similar procedures to determine which is the proper statistical test to use.\n",
    "\n",
    "\n",
    "\n",
    "\n",
    "### Background of data: Speech as indicator of intellect\n",
    "To recap on Experiment 4, 39 professional recruiters from Fortune 500 companies evaluated job pitches of M.B.A. candidates (Masters in Business Administration) from the University of Chicago Booth School of Business. The methods and results appear on pages 887--889 of the article if you want to look at them specifically for more details."
   ]
  },
  {
   "cell_type": "markdown",
   "metadata": {
    "id": "vIc57Glgn5Bb"
   },
   "source": [
    "###Step 1: Analyze the demographics of evaluators from the provided dataset\n",
    "\n",
    "**Instructions:**\n",
    "\n",
    "1. Load the necessary libraries (pandas, scipy, numpy, matplotlib.pyplot, seaborn) and explain why you need them (\"#used for ...\").\n",
    "\n",
    "2. Read the evaluators.csv file into a DataFrame.\n",
    "\n",
    "3. Calculate the mean and standard deviation of the age of the evaluators, handling missing values appropriately.\n",
    "\n",
    "4. Count how many male and female evaluators were in the study.\n",
    "\n",
    "**Question 4:**\n",
    "\n",
    "a. What was the mean age of the evaluators?\n",
    "What was the standard deviation of the age of the evaluators?\n",
    "\n",
    "b. How many participants were female and how many participants were male?\n"
   ]
  },
  {
   "cell_type": "code",
   "execution_count": 64,
   "metadata": {
    "id": "RgnTye-yojyH",
    "scrolled": true
   },
   "outputs": [
    {
     "data": {
      "text/html": [
       "<div>\n",
       "<style scoped>\n",
       "    .dataframe tbody tr th:only-of-type {\n",
       "        vertical-align: middle;\n",
       "    }\n",
       "\n",
       "    .dataframe tbody tr th {\n",
       "        vertical-align: top;\n",
       "    }\n",
       "\n",
       "    .dataframe thead th {\n",
       "        text-align: right;\n",
       "    }\n",
       "</style>\n",
       "<table border=\"1\" class=\"dataframe\">\n",
       "  <thead>\n",
       "    <tr style=\"text-align: right;\">\n",
       "      <th></th>\n",
       "      <th>eval_id</th>\n",
       "      <th>condition</th>\n",
       "      <th>age</th>\n",
       "      <th>sex</th>\n",
       "    </tr>\n",
       "  </thead>\n",
       "  <tbody>\n",
       "    <tr>\n",
       "      <th>0</th>\n",
       "      <td>1</td>\n",
       "      <td>listened</td>\n",
       "      <td>29.0</td>\n",
       "      <td>2.0</td>\n",
       "    </tr>\n",
       "    <tr>\n",
       "      <th>1</th>\n",
       "      <td>2</td>\n",
       "      <td>listened</td>\n",
       "      <td>27.0</td>\n",
       "      <td>2.0</td>\n",
       "    </tr>\n",
       "    <tr>\n",
       "      <th>2</th>\n",
       "      <td>3</td>\n",
       "      <td>listened</td>\n",
       "      <td>27.0</td>\n",
       "      <td>2.0</td>\n",
       "    </tr>\n",
       "    <tr>\n",
       "      <th>3</th>\n",
       "      <td>4</td>\n",
       "      <td>read</td>\n",
       "      <td>40.0</td>\n",
       "      <td>2.0</td>\n",
       "    </tr>\n",
       "    <tr>\n",
       "      <th>4</th>\n",
       "      <td>5</td>\n",
       "      <td>read</td>\n",
       "      <td>32.0</td>\n",
       "      <td>2.0</td>\n",
       "    </tr>\n",
       "  </tbody>\n",
       "</table>\n",
       "</div>"
      ],
      "text/plain": [
       "   eval_id condition   age  sex\n",
       "0        1  listened  29.0  2.0\n",
       "1        2  listened  27.0  2.0\n",
       "2        3  listened  27.0  2.0\n",
       "3        4      read  40.0  2.0\n",
       "4        5      read  32.0  2.0"
      ]
     },
     "execution_count": 64,
     "metadata": {},
     "output_type": "execute_result"
    }
   ],
   "source": [
    "\n",
    "import pandas as pd # used for data manipulation and analysis\n",
    "from scipy import stats ##Perform various statistical analysis\n",
    "import numpy as np ## For Numerical calculations and array manipulations.\n",
    "import matplotlib.pyplot as plt ## used for visualization \n",
    "import seaborn as sns ##Create statistical data visualization charts\n",
    "\n",
    "# Load the data\n",
    "df_evaluators = pd.read_csv(r'C:\\Users\\yd180\\Desktop\\A1_analysing_data\\data for A1\\evaluators.csv')\n",
    "df_evaluators.head()\n"
   ]
  },
  {
   "cell_type": "code",
   "execution_count": 66,
   "metadata": {
    "id": "eDw0XnX3BRhe"
   },
   "outputs": [
    {
     "name": "stdout",
     "output_type": "stream",
     "text": [
      "Mean age of evaluators: 30.852941176470587\n",
      "Standard deviation of age of evaluators: 6.238358141327351\n"
     ]
    }
   ],
   "source": [
    "# Q4a (code):\n",
    "# Calculate mean and standard deviation for age\n",
    "mean_age = df_evaluators['age'].mean()\n",
    "std_age = df_evaluators['age'].std()\n",
    "\n",
    "# show mean and standard deviation for age\n",
    "print(\"Mean age of evaluators:\", mean_age)\n",
    "print(\"Standard deviation of age of evaluators:\", std_age)"
   ]
  },
  {
   "cell_type": "code",
   "execution_count": 70,
   "metadata": {
    "id": "I0tU57R5ufRI"
   },
   "outputs": [
    {
     "name": "stdout",
     "output_type": "stream",
     "text": [
      "Number of male evaluators: 4\n",
      "Number of female evaluators: 30\n"
     ]
    }
   ],
   "source": [
    "# Q4b (code)\n",
    "# Count male and female evaluators\n",
    "# In the 'sex' column: 1 represents males and 2 represents females\n",
    "#Filter out the rows with male gender and sum them\n",
    "male_count = (df_evaluators['sex'] == 1).sum()\n",
    "#Filter out the rows with female gender and sum them\n",
    "female_count = (df_evaluators['sex'] == 2).sum()\n",
    "\n",
    "# Show the number of male and female evaluators\n",
    "print(\"Number of male evaluators:\", male_count)\n",
    "print(\"Number of female evaluators:\", female_count)"
   ]
  },
  {
   "cell_type": "markdown",
   "metadata": {
    "id": "KK-MdZfdpDI3"
   },
   "source": [
    "###Step 2: Calculate overall intellect ratings from evaluators and prepare a combined dataset for analysis\n",
    "\n",
    "We are now going to calculate an overall intellect rating given by each evaluator. To break that down a bit, we are going to calculate how intellectual the evaluators (the raters) thought candidates were overall, depending on whether the evaluators read or listened to the candidates' resume pitches. This is calculated by averaging the ratings of competent, thoughtful and intelligent for each evaluator held within ratings.csv.\n",
    "\n",
    "Note: We are not looking at ratings to individual candidates; we are looking at overall ratings for each evaluator. This is a bit confusing but makes sense if you stop to think about it a little. You can think about it in terms of \"do raters rate differently depending on whether they read or listen to a resume pitch\".\n",
    "We will then combine the overall intellect rating with the overall impression ratings and overall hire ratings for each evaluator, all ready found in ratings.csv. In the end we will have a new new dataframe named \"ratings2\" - which has the below structure:\n",
    "\n",
    "**eval_id** shows the evaluator ID. Each evaluator has a different ID. So all the 1's are the same evaluator.\n",
    "\n",
    "**Category** shows the scale that they were rating on - intellect, hire, impression\n",
    "\n",
    "**Rating** shows the overall rating given by that evaluator on a given scale.\n",
    "\n",
    "**condition** shows whether that evaluator listened to (e.g., evaluators 1, 2 and 3), or read (e.g., evaluator 4) the resume.\n",
    "\n",
    "\n",
    "**Instructions:**\n",
    "\n",
    "1. Load the ratings.csv file.\n",
    "\n",
    "2. Filter and calculate the mean intellect rating for each evaluator.\n",
    "\n",
    "3. Combine this with overall impression and hire ratings to create a new DataFrame named \"rating2\".\n",
    "\n",
    "4. Merge this DataFrame with the evaluator demographics.\n",
    "\n",
    "**Question 5**:\n",
    "\n",
    "Print the head of \"rating2\".\n"
   ]
  },
  {
   "cell_type": "code",
   "execution_count": 71,
   "metadata": {
    "id": "l85NzSC-pj57"
   },
   "outputs": [
    {
     "data": {
      "text/html": [
       "<div>\n",
       "<style scoped>\n",
       "    .dataframe tbody tr th:only-of-type {\n",
       "        vertical-align: middle;\n",
       "    }\n",
       "\n",
       "    .dataframe tbody tr th {\n",
       "        vertical-align: top;\n",
       "    }\n",
       "\n",
       "    .dataframe thead th {\n",
       "        text-align: right;\n",
       "    }\n",
       "</style>\n",
       "<table border=\"1\" class=\"dataframe\">\n",
       "  <thead>\n",
       "    <tr style=\"text-align: right;\">\n",
       "      <th></th>\n",
       "      <th>eval_id</th>\n",
       "      <th>Category</th>\n",
       "      <th>Rating</th>\n",
       "    </tr>\n",
       "  </thead>\n",
       "  <tbody>\n",
       "    <tr>\n",
       "      <th>0</th>\n",
       "      <td>1</td>\n",
       "      <td>competent</td>\n",
       "      <td>6.0</td>\n",
       "    </tr>\n",
       "    <tr>\n",
       "      <th>1</th>\n",
       "      <td>1</td>\n",
       "      <td>thoughtful</td>\n",
       "      <td>6.0</td>\n",
       "    </tr>\n",
       "    <tr>\n",
       "      <th>2</th>\n",
       "      <td>1</td>\n",
       "      <td>intelligent</td>\n",
       "      <td>6.0</td>\n",
       "    </tr>\n",
       "    <tr>\n",
       "      <th>3</th>\n",
       "      <td>1</td>\n",
       "      <td>impression</td>\n",
       "      <td>7.0</td>\n",
       "    </tr>\n",
       "    <tr>\n",
       "      <th>4</th>\n",
       "      <td>1</td>\n",
       "      <td>hire</td>\n",
       "      <td>6.0</td>\n",
       "    </tr>\n",
       "  </tbody>\n",
       "</table>\n",
       "</div>"
      ],
      "text/plain": [
       "   eval_id     Category  Rating\n",
       "0        1    competent     6.0\n",
       "1        1   thoughtful     6.0\n",
       "2        1  intelligent     6.0\n",
       "3        1   impression     7.0\n",
       "4        1         hire     6.0"
      ]
     },
     "execution_count": 71,
     "metadata": {},
     "output_type": "execute_result"
    }
   ],
   "source": [
    "# Load ratings data\n",
    "df_ratings = pd.read_csv(r\"C:\\Users\\yd180\\Desktop\\A1_analysing_data\\data for A1\\ratings.csv\")\n",
    "df_ratings.head()\n"
   ]
  },
  {
   "cell_type": "code",
   "execution_count": 78,
   "metadata": {
    "id": "5dxtVUSMBZwf"
   },
   "outputs": [
    {
     "data": {
      "text/html": [
       "<div>\n",
       "<style scoped>\n",
       "    .dataframe tbody tr th:only-of-type {\n",
       "        vertical-align: middle;\n",
       "    }\n",
       "\n",
       "    .dataframe tbody tr th {\n",
       "        vertical-align: top;\n",
       "    }\n",
       "\n",
       "    .dataframe thead th {\n",
       "        text-align: right;\n",
       "    }\n",
       "</style>\n",
       "<table border=\"1\" class=\"dataframe\">\n",
       "  <thead>\n",
       "    <tr style=\"text-align: right;\">\n",
       "      <th></th>\n",
       "      <th>eval_id</th>\n",
       "      <th>Category</th>\n",
       "      <th>Rating</th>\n",
       "      <th>condition</th>\n",
       "    </tr>\n",
       "  </thead>\n",
       "  <tbody>\n",
       "    <tr>\n",
       "      <th>40</th>\n",
       "      <td>1</td>\n",
       "      <td>hire</td>\n",
       "      <td>6.000000</td>\n",
       "      <td>listened</td>\n",
       "    </tr>\n",
       "    <tr>\n",
       "      <th>39</th>\n",
       "      <td>1</td>\n",
       "      <td>impression</td>\n",
       "      <td>7.000000</td>\n",
       "      <td>listened</td>\n",
       "    </tr>\n",
       "    <tr>\n",
       "      <th>0</th>\n",
       "      <td>1</td>\n",
       "      <td>intellect</td>\n",
       "      <td>6.000000</td>\n",
       "      <td>listened</td>\n",
       "    </tr>\n",
       "    <tr>\n",
       "      <th>42</th>\n",
       "      <td>2</td>\n",
       "      <td>hire</td>\n",
       "      <td>4.000000</td>\n",
       "      <td>listened</td>\n",
       "    </tr>\n",
       "    <tr>\n",
       "      <th>41</th>\n",
       "      <td>2</td>\n",
       "      <td>impression</td>\n",
       "      <td>4.666667</td>\n",
       "      <td>listened</td>\n",
       "    </tr>\n",
       "  </tbody>\n",
       "</table>\n",
       "</div>"
      ],
      "text/plain": [
       "    eval_id    Category    Rating condition\n",
       "40        1        hire  6.000000  listened\n",
       "39        1  impression  7.000000  listened\n",
       "0         1   intellect  6.000000  listened\n",
       "42        2        hire  4.000000  listened\n",
       "41        2  impression  4.666667  listened"
      ]
     },
     "execution_count": 78,
     "metadata": {},
     "output_type": "execute_result"
    }
   ],
   "source": [
    "# Q5 (code):\n",
    "# Filter the ratings DataFrame to include only 'thoughtful', 'competent', and 'intelligent' categories\n",
    "df_ratings_filtered = df_ratings[df_ratings['Category'].isin(['thoughtful', 'competent', 'intelligent'])]\n",
    "\n",
    "\n",
    "# Calculate the mean intellect rating for each evaluator\n",
    "# Group by 'eval_id' and calculate mean, then reset the index to convert groupby object back to DataFrame\n",
    "df_intellect_rating = df_ratings_filtered.groupby('eval_id')['Rating'].mean()\n",
    "df_intellect_rating = df_intellect_rating.reset_index()\n",
    "\n",
    "# Add a 'Category' column with the value 'intellect' for these rows\n",
    "df_intellect_rating['Category'] = 'intellect'\n",
    "\n",
    "# Create a DataFrame for 'impression' and 'hire' ratings\n",
    "df_impression_hire = df_ratings[df_ratings['Category'].isin(['impression', 'hire'])]\n",
    "\n",
    "# Combine the DataFrames to create 'ratings2'\n",
    "# Concatenate the 'intellect_mean' DataFrame with the 'other_ratings' DataFrame\n",
    "ratings2 = pd.concat([df_intellect_rating, df_impression_hire])\n",
    "\n",
    "# Join 'ratings2' with the 'df_evaluators' DataFrame to add the 'condition' column\n",
    "ratings2 = pd.merge(ratings2, df_evaluators[['eval_id', 'condition']], on='eval_id', how='left')\n",
    "\n",
    "# Select only the necessary columns as per the structure required\n",
    "ratings2 = ratings2[['eval_id', 'Category', 'Rating', 'condition']]\n",
    "\n",
    "# Arrange by 'eval_id' and 'Category'\n",
    "#source：https://stackoverflow.com/questions/13636592/how-to-sort-a-pandas-dataframe-according-to-multiple-criteria\n",
    "ratings2.sort_values(by=['eval_id', 'Category'], inplace=True)\n",
    "\n",
    "# Display the first few rows of the final 'ratings2' DataFrame to verify\n",
    "ratings2.head()"
   ]
  },
  {
   "cell_type": "markdown",
   "metadata": {
    "id": "fOmtKCzEpoOa"
   },
   "source": [
    "###Step 3: Perform descriptive and inferential statistical analyses, including testing assumptions and conducting independent t-tests.\n",
    "\n",
    "We are going to run the t-tests for Intellect, Hire and Impression; each time comparing evaluators overall ratings for the listened group versus overall ratings for the read group to see if there was a significant difference between the two conditions: i.e., did the evaluators who listened to pitches give a significant higher or lower rating than evaluators that read pitches?\n",
    "\n",
    "**Question 6**:\n",
    "\n",
    "a. In terms of hypotheses, how can we phrase the hypothesis?\n",
    "\n",
    "b. Which t-test should we choose, one-tail or two-tail? And explian why.\n",
    "\n",
    "c. What are the independent variable and the dependent variable here?\n",
    "\n"
   ]
  },
  {
   "cell_type": "markdown",
   "metadata": {
    "id": "duti45rG22eS"
   },
   "source": [
    "# Q6a (answer in words):\n",
    "# Null hypothesis:\n",
    "There were no significant differences in overall ratings (intelligence, impression, and employability) between evaluators who listened to the resume pitch and those who read the resume pitch. In other words, the mean overall ratings of the two groups of evaluators were equal, so the mode of presentation (listening or reading) did not affect the evaluators' ratings.\n",
    "\n",
    "# Alternative hypothesis:\n",
    "There were significant differences in overall ratings (intelligence, impression, and employability) between evaluators who listened to the resume pitch and those who read the resume pitch. That is, the average overall rating of one group of evaluators is not equal to the average overall rating of another group"
   ]
  },
  {
   "cell_type": "markdown",
   "metadata": {
    "id": "EkoM_0js3fyS"
   },
   "source": [
    "# Q6b (answer in words):\n",
    "# Which t-test should we choose, one-tail or two-tail? Explian why.\n",
    "We should choose the two tail t-test because we do not have a specific hypothesis direction or a clear prediction of whether one group will score higher than the other. The two tail t-test allows us to detect differences in any direction ."
   ]
  },
  {
   "cell_type": "markdown",
   "metadata": {
    "id": "073zOlIsI5ws"
   },
   "source": [
    "# Q6c (answer in words):\n",
    "# What are the independent variable and the dependent variable here?\n",
    "The independent variable is the method of presenting the resume pitch to the evaluator, which has two levels: listening and reading.\n",
    "The dependent variable is the overall rating given by the evaluator. This may include ratings of intelligence, impression, and employability."
   ]
  },
  {
   "cell_type": "markdown",
   "metadata": {
    "id": "4g-SpuDX23iL"
   },
   "source": [
    "\n",
    "To clarify, we are going to run three between-subjects t-tests in total; one for intellect ratings; one for hire ratings; one for impression ratings.\n",
    "\n",
    "**Instructions:**\n",
    "\n",
    "1. Descriptive analysis of the ratings.\n",
    "\n",
    "2. Test for normal distribution (Shapiro-Wilk test) and homogeneity of variances (Levene's test) for the intellect, impression, and hire ratings.\n",
    "\n",
    "3. Conduct independent t-tests comparing intellect, impression, and hire ratings between conditions (listened vs. read).\n",
    "\n",
    "Hints: three T-tests need to be performed.\n",
    "\n",
    "**Question 7**:\n",
    "\n",
    "a: Print the test results.\n",
    "\n",
    "b: Interpret the results of the above descriptive statistics, Shapiro-Wilk test, Levene's test, and independent t-tests. Explian why we use these tests and how we made our decisions based on the test result."
   ]
  },
  {
   "cell_type": "code",
   "execution_count": 90,
   "metadata": {},
   "outputs": [
    {
     "name": "stdout",
     "output_type": "stream",
     "text": [
      "Descriptive statistics for Intellect ratings (Listened):\n",
      "count    21.000000\n",
      "mean      5.634921\n",
      "std       1.608674\n",
      "min       2.333333\n",
      "25%       5.000000\n",
      "50%       5.666667\n",
      "75%       6.000000\n",
      "max       9.000000\n",
      "Name: Rating, dtype: float64\n",
      "\n",
      "Descriptive statistics for Impression ratings (Listened):\n",
      "count    21.000000\n",
      "mean      5.968254\n",
      "std       1.917477\n",
      "min       2.333333\n",
      "25%       4.666667\n",
      "50%       6.666667\n",
      "75%       7.333333\n",
      "max       8.666667\n",
      "Name: Rating, dtype: float64\n",
      "\n",
      "Descriptive statistics for Hire ratings (Listened):\n",
      "count    21.000000\n",
      "mean      4.714286\n",
      "std       2.261479\n",
      "min       0.000000\n",
      "25%       4.000000\n",
      "50%       5.000000\n",
      "75%       7.000000\n",
      "max       8.000000\n",
      "Name: Rating, dtype: float64\n",
      "\n",
      "Descriptive statistics for Intellect ratings (Read):\n",
      "count    18.000000\n",
      "mean      3.648148\n",
      "std       1.911343\n",
      "min       0.666667\n",
      "25%       2.083333\n",
      "50%       3.666667\n",
      "75%       4.666667\n",
      "max       7.000000\n",
      "Name: Rating, dtype: float64\n",
      "\n",
      "Descriptive statistics for Impression ratings (Read):\n",
      "count    18.000000\n",
      "mean      4.074074\n",
      "std       2.233306\n",
      "min       0.333333\n",
      "25%       2.166667\n",
      "50%       4.500000\n",
      "75%       5.333333\n",
      "max       7.333333\n",
      "Name: Rating, dtype: float64\n",
      "\n",
      "Descriptive statistics for Hire ratings (Read):\n",
      "count    18.000000\n",
      "mean      2.888889\n",
      "std       2.054805\n",
      "min       0.000000\n",
      "25%       1.250000\n",
      "50%       2.000000\n",
      "75%       4.000000\n",
      "max       7.000000\n",
      "Name: Rating, dtype: float64\n"
     ]
    }
   ],
   "source": [
    "##Q7a (code):\n",
    "from scipy.stats import shapiro, levene, ttest_ind # for Shapiro-Wilk test and Levene's test and independent t-tests \n",
    "\n",
    "# Extract intellect data for listened and read conditions separately\n",
    "intellect_listened_ratings = ratings2[(ratings2['Category'] == 'intellect') & (ratings2['condition'] == 'listened')]['Rating']\n",
    "intellect_read_ratings = ratings2[(ratings2['Category'] == 'intellect') & (ratings2['condition'] == 'read')]['Rating']\n",
    "\n",
    "# Extract impression data for listened and read conditions separately\n",
    "impression_listened_ratings = ratings2[(ratings2['Category'] == 'impression') & (ratings2['condition'] == 'listened')]['Rating']\n",
    "impression_read_ratings = ratings2[(ratings2['Category'] == 'impression') & (ratings2['condition'] == 'read')]['Rating']\n",
    "\n",
    "# Extract hire data for listened and read conditions separately\n",
    "hire_listened_ratings = ratings2[(ratings2['Category'] == 'hire') & (ratings2['condition'] == 'listened')]['Rating']\n",
    "hire_read_ratings = ratings2[(ratings2['Category'] == 'hire') & (ratings2['condition'] == 'read')]['Rating']\n",
    "\n",
    "# Display descriptive statistics for listened condition\n",
    "print(\"Descriptive statistics for Intellect ratings (Listened):\")\n",
    "print(intellect_listened_ratings.describe())\n",
    "\n",
    "print(\"\\nDescriptive statistics for Impression ratings (Listened):\")\n",
    "print(impression_listened_ratings.describe())\n",
    "\n",
    "print(\"\\nDescriptive statistics for Hire ratings (Listened):\")\n",
    "print(hire_listened_ratings.describe())\n",
    "\n",
    "# Display descriptive statistics for read condition\n",
    "print(\"\\nDescriptive statistics for Intellect ratings (Read):\")\n",
    "print(intellect_read_ratings.describe())\n",
    "\n",
    "print(\"\\nDescriptive statistics for Impression ratings (Read):\")\n",
    "print(impression_read_ratings.describe())\n",
    "\n",
    "print(\"\\nDescriptive statistics for Hire ratings (Read):\")\n",
    "print(hire_read_ratings.describe())"
   ]
  },
  {
   "cell_type": "code",
   "execution_count": 91,
   "metadata": {
    "scrolled": true
   },
   "outputs": [
    {
     "name": "stdout",
     "output_type": "stream",
     "text": [
      "Shapiro-Wilk Test for Intellect Ratings:\n",
      "Test Statistic: 0.9747602939605713\n",
      "P-value: 0.5182666182518005\n",
      "\n",
      "Shapiro-Wilk Test for Impression Ratings:\n",
      "Test Statistic: 0.9595587849617004\n",
      "P-value: 0.17238670587539673\n",
      "\n",
      "Shapiro-Wilk Test for Hire Ratings:\n",
      "Test Statistic: 0.9427909851074219\n",
      "P-value: 0.04710369557142258\n"
     ]
    }
   ],
   "source": [
    "# Perform Shapiro-Wilk test for normality on intellect ratings\n",
    "shapiro_intellect = shapiro(intellect_ratings)\n",
    "print(\"Shapiro-Wilk Test for Intellect Ratings:\")\n",
    "print(f\"Test Statistic: {shapiro_intellect.statistic}\")\n",
    "print(f\"P-value: {shapiro_intellect.pvalue}\")\n",
    "\n",
    "# Perform Shapiro-Wilk test for normality on impression ratings\n",
    "shapiro_impression = shapiro(impression_ratings)\n",
    "print(\"\\nShapiro-Wilk Test for Impression Ratings:\")\n",
    "print(f\"Test Statistic: {shapiro_impression.statistic}\")\n",
    "print(f\"P-value: {shapiro_impression.pvalue}\")\n",
    "\n",
    "# Perform Shapiro-Wilk test for normality on hire ratings\n",
    "shapiro_hire = shapiro(hire_ratings)\n",
    "print(\"\\nShapiro-Wilk Test for Hire Ratings:\")\n",
    "print(f\"Test Statistic: {shapiro_hire.statistic}\")\n",
    "print(f\"P-value: {shapiro_hire.pvalue}\")"
   ]
  },
  {
   "cell_type": "code",
   "execution_count": 98,
   "metadata": {},
   "outputs": [
    {
     "name": "stdout",
     "output_type": "stream",
     "text": [
      "Levene's test for Intellect ratings:\n",
      "Test Statistic: 0.8980185752566812\n",
      "P-value: 0.34946205893248505\n",
      "\n",
      "Levene's test for Impression ratings:\n",
      "Test Statistic: 0.39045326236607025\n",
      "P-value: 0.5358960150374064\n",
      "\n",
      "Levene's test for Hire ratings:\n",
      "Test Statistic: 0.10663746145199855\n",
      "P-value: 0.7458453933447955\n",
      "\n"
     ]
    }
   ],
   "source": [
    "# Test for homogeneity of variances (Levene's test)\n",
    "from scipy.stats import levene\n",
    "\n",
    "# Define a function to perform Levene's test\n",
    "def test_homogeneity_of_variances(data, category):\n",
    "    # Group data extraction based on conditions\n",
    "    listened_ratings = data[data['condition'] == 'listened']['Rating']\n",
    "    read_ratings = data[data['condition'] == 'read']['Rating']\n",
    "    \n",
    "    # Perform Levene's test\n",
    "    stat, p_value = levene(listened_ratings, read_ratings)\n",
    "    # Display rating categories\n",
    "    print(f\"Levene's test for {category.capitalize()} ratings:\")  \n",
    "    print(f\"Test Statistic: {stat}\") \n",
    "    print(f\"P-value: {p_value}\")  \n",
    "    print()\n",
    "\n",
    "# Perform Levene's test on each category\n",
    "test_homogeneity_of_variances(ratings2[ratings2['Category'] == 'intellect'], 'intellect')  \n",
    "test_homogeneity_of_variances(ratings2[ratings2['Category'] == 'impression'], 'impression')  \n",
    "test_homogeneity_of_variances(ratings2[ratings2['Category'] == 'hire'], 'hire')  "
   ]
  },
  {
   "cell_type": "code",
   "execution_count": 99,
   "metadata": {},
   "outputs": [
    {
     "name": "stdout",
     "output_type": "stream",
     "text": [
      "Independent t-test for Intellect ratings:\n",
      "t-statistic: 3.5259329220482414\n",
      "P-value: 0.0011444414996286821\n",
      "\n",
      "Independent t-test for Impression ratings:\n",
      "t-statistic: 2.850766179025179\n",
      "P-value: 0.007091060616710596\n",
      "\n",
      "Independent t-test for Hire ratings:\n",
      "t-statistic: 2.620100218173143\n",
      "P-value: 0.012674511839824125\n",
      "\n"
     ]
    }
   ],
   "source": [
    "# Independent t-tests\n",
    "\n",
    "def independent_t_test(data, category):\n",
    "    # Group data extraction based on conditions\n",
    "    listened_ratings = data[data['condition'] == 'listened']['Rating']\n",
    "    read_ratings = data[data['condition'] == 'read']['Rating']\n",
    "    \n",
    "    stat, p_value = ttest_ind(listened_ratings, read_ratings)\n",
    "    print(f\"Independent t-test for {category.capitalize()} ratings:\") \n",
    "    print(f\"t-statistic: {stat}\")  \n",
    "    print(f\"P-value: {p_value}\")  \n",
    "    print()\n",
    "\n",
    "# Perform  Independent t-tests on each category\n",
    "independent_t_test(ratings2[ratings2['Category'] == 'intellect'], 'intellect')  \n",
    "independent_t_test(ratings2[ratings2['Category'] == 'impression'], 'impression')  \n",
    "independent_t_test(ratings2[ratings2['Category'] == 'hire'], 'hire') "
   ]
  },
  {
   "cell_type": "markdown",
   "metadata": {
    "id": "aifm_T8UQwYm"
   },
   "source": [
    "#Q7b (answer in words):"
   ]
  },
  {
   "cell_type": "markdown",
   "metadata": {},
   "source": [
    "Descriptive Statistics"
   ]
  },
  {
   "cell_type": "markdown",
   "metadata": {},
   "source": [
    "Use these descriptive statistics to gain insight into the central tendency, variability, and distribution of ratings for each category and condition. These statistics were used to identify significant differences between the listening and reading conditions. For example, in the listening condition, the average rating of the candidate's intelligence (5.63) was higher than the average rating of the candidate's intelligence in the reading condition (3.65). It could mean that listening to resumes appears to have a positive impact on evaluators' intelligence assessments, whereas reading resumes may lead to lower rated intelligence impressions. In terms of impression rating, the standard deviation of the ratings is higher in the listening condition, possibly because the listening method is more emotionally resonant or easier to attract attention."
   ]
  },
  {
   "cell_type": "markdown",
   "metadata": {},
   "source": [
    "Shapiro-Wilk test"
   ]
  },
  {
   "cell_type": "markdown",
   "metadata": {},
   "source": [
    "Regarding intelligence rating, the P value corresponding to the Shapiro-Wilk test result is 0.518, which is much greater than 0.05. Therefore, the intelligence rating data conforms to the normal distribution under both listening and reading conditions. Regarding the impression rating, the corresponding P value is also much larger than 0.05, so the conclusion is the same. However, the corresponding p value for hire rating data is 0.047<0.05, which means that it does not obey the normal distribution under listening and reading conditions. Based on what can be obtained, intelligence and impression rating data can be analyzed based on the statistical method of normal distribution. For hire rating data, it does not meet the assumption of normal distribution, so we should choose other methods that do not make assumptions to avoid analysis errors."
   ]
  },
  {
   "cell_type": "markdown",
   "metadata": {},
   "source": [
    " Levene's test"
   ]
  },
  {
   "cell_type": "markdown",
   "metadata": {},
   "source": [
    "Levene's test is used to test whether the sample variances of each group are equal. In the intelligence rating, impression rating, and hire rating, the sample variances under the two conditions of listening and reading are not significantly different."
   ]
  },
  {
   "cell_type": "markdown",
   "metadata": {},
   "source": [
    "Independent t-tests"
   ]
  },
  {
   "cell_type": "markdown",
   "metadata": {},
   "source": [
    "There are significant differences in intelligence rating (P value=0.0011), impression rating (P value=0.0071), and hire rating (P value=0.00127) under the same listening and reading conditions. That is to say, the difference between the two conditions is not randomly caused by sampling errors or other reasons, but is real. This can provide more accurate evidence for selecting a better way to present resumes during recruitment."
   ]
  }
 ],
 "metadata": {
  "colab": {
   "provenance": []
  },
  "kernelspec": {
   "display_name": "Python 3 (ipykernel)",
   "language": "python",
   "name": "python3"
  },
  "language_info": {
   "codemirror_mode": {
    "name": "ipython",
    "version": 3
   },
   "file_extension": ".py",
   "mimetype": "text/x-python",
   "name": "python",
   "nbconvert_exporter": "python",
   "pygments_lexer": "ipython3",
   "version": "3.11.5"
  }
 },
 "nbformat": 4,
 "nbformat_minor": 4
}
